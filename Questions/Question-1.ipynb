{
 "cells": [
  {
   "cell_type": "markdown",
   "id": "138dc67f",
   "metadata": {},
   "source": [
    "# Question 1"
   ]
  },
  {
   "cell_type": "code",
   "execution_count": null,
   "id": "94f68911",
   "metadata": {},
   "outputs": [],
   "source": [
    "import pandas as pd\n",
    "data = pd.read_csv(\"Suicides in India 2001-2012.csv\")"
   ]
  },
  {
   "cell_type": "code",
   "execution_count": null,
   "id": "83dad48c",
   "metadata": {},
   "outputs": [],
   "source": [
    "import numpy as np\n",
    "state=data['State'].unique()\n",
    "suicide=data.to_numpy()\n",
    "state=np.delete(state,[31,32,33])"
   ]
  },
  {
   "cell_type": "code",
   "execution_count": null,
   "id": "c0bdce01",
   "metadata": {},
   "outputs": [],
   "source": [
    "total=[]\n",
    "for i in state:\n",
    "    k=0\n",
    "    for j in suicide:\n",
    "        if(j[1]==2010 and j[0]==i):\n",
    "            k+=j[6]\n",
    "    total.append(k)"
   ]
  },
  {
   "cell_type": "code",
   "execution_count": null,
   "id": "88422453",
   "metadata": {},
   "outputs": [],
   "source": [
    "dict = {'State':state,'Total':total}\n",
    "df = pd.DataFrame(dict)\n",
    "print(\"Top 5 States where suicides were minimum in 2010 is:\")\n",
    "print(df.sort_values(by=['Total']).head())"
   ]
  }
