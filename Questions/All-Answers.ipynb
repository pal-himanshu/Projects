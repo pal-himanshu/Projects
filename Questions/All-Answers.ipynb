{
 "cells": [
  {
   "cell_type": "markdown",
   "id": "138dc67f",
   "metadata": {},
   "source": [
    "# Question 1"
   ]
  },
  {
   "cell_type": "code",
   "execution_count": null,
   "id": "94f68911",
   "metadata": {},
   "outputs": [],
   "source": [
    "import pandas as pd\n",
    "data = pd.read_csv(\"Suicides in India 2001-2012.csv\")"
   ]
  },
  {
   "cell_type": "code",
   "execution_count": null,
   "id": "83dad48c",
   "metadata": {},
   "outputs": [],
   "source": [
    "import numpy as np\n",
    "state=data['State'].unique()\n",
    "suicide=data.to_numpy()\n",
    "state=np.delete(state,[31,32,33])"
   ]
  },
  {
   "cell_type": "code",
   "execution_count": null,
   "id": "c0bdce01",
   "metadata": {},
   "outputs": [],
   "source": [
    "total=[]\n",
    "for i in state:\n",
    "    k=0\n",
    "    for j in suicide:\n",
    "        if(j[1]==2010 and j[0]==i):\n",
    "            k+=j[6]\n",
    "    total.append(k)"
   ]
  },
  {
   "cell_type": "code",
   "execution_count": null,
   "id": "88422453",
   "metadata": {},
   "outputs": [],
   "source": [
    "dict = {'State':state,'Total':total}\n",
    "df = pd.DataFrame(dict)\n",
    "print(\"Top 5 States where suicides were minimum in 2010 is:\")\n",
    "print(df.sort_values(by=['Total']).head())"
   ]
  },
  {
   "cell_type": "markdown",
   "id": "5b31da75",
   "metadata": {},
   "source": [
    "# Question 2"
   ]
  },
  {
   "cell_type": "code",
   "execution_count": null,
   "id": "1538fdb7",
   "metadata": {},
   "outputs": [],
   "source": [
    "import pandas as pd\n",
    "import numpy as np\n",
    "data = pd.read_csv(\"Suicides in India 2001-2012.csv\")"
   ]
  },
  {
   "cell_type": "code",
   "execution_count": null,
   "id": "e3db082c",
   "metadata": {},
   "outputs": [],
   "source": [
    "suicide = data.to_numpy()\n",
    "cause = data['Type'].unique()\n",
    "cause=np.delete(cause,[20,41,58,68])\n",
    "total =[]\n",
    "for i in cause:\n",
    "    count=0\n",
    "    for j in suicide:\n",
    "        if(j[0]=='Rajasthan' and j[1]==2005 and j[3]==i):\n",
    "            count+=j[6]\n",
    "    total.append(count)\n"
   ]
  },
  {
   "cell_type": "code",
   "execution_count": null,
   "id": "1e2a35f5",
   "metadata": {},
   "outputs": [],
   "source": [
    "dict={'Cause':cause,'Total':total}\n",
    "df = pd.DataFrame(dict)\n",
    "df = df.sort_values(by=['Total'],ascending=0).head(1)\n",
    "print(\"Rajasthan state suffered suicides most in 2005 is:\",df['Cause'].to_string()[5:])"
   ]
  },
  {
   "cell_type": "markdown",
   "id": "75fa7aa7",
   "metadata": {},
   "source": [
    "# Question 3"
   ]
  },
  {
   "cell_type": "code",
   "execution_count": null,
   "id": "3c57944d",
   "metadata": {},
   "outputs": [],
   "source": [
    "import pandas as pd\n",
    "import numpy as np\n",
    "data = pd.read_csv(\"Suicides in India 2001-2012.csv\")"
   ]
  },
  {
   "cell_type": "code",
   "execution_count": null,
   "id": "c881f81d",
   "metadata": {},
   "outputs": [],
   "source": [
    "suicide = data.to_numpy()\n",
    "Year = [2010,2011,2012]\n",
    "\n",
    "total_bihar =[]\n",
    "total_delhi = []\n",
    "for i in Year:\n",
    "    count =0\n",
    "    c2=0\n",
    "    for j in suicide:\n",
    "            if(j[0]=='Bihar') and j[1]==i and j[3]=='Unemployment':\n",
    "                count+=j[6]\n",
    "            if j[0]=='Delhi (Ut)' and j[1]==i and j[3]=='Unemployment':\n",
    "                c2+=j[6]\n",
    "    total_bihar.append(count)\n",
    "    total_delhi.append(c2)\n",
    "total_bihar.sort(reverse=True)\n",
    "total_delhi.sort(reverse=True)\n",
    "print(\"Highest Numbers of Suicides caused by unemployment in Bihar during 2010 to 2012 is:\",total_bihar[0])\n",
    "print(\"Highest Numbers of Suicides caused by unemployment in Delhi during 2010 to 2012 is:\",total_delhi[0])"
   ]
  },
  {
   "cell_type": "markdown",
   "id": "fb8980d3",
   "metadata": {},
   "source": [
    "# Question 4"
   ]
  },
  {
   "cell_type": "code",
   "execution_count": null,
   "id": "36ac3806",
   "metadata": {},
   "outputs": [],
   "source": [
    "import pandas as pd\n",
    "import numpy as np\n",
    "data = pd.read_csv(\"Suicides in India 2001-2012.csv\")"
   ]
  },
  {
   "cell_type": "code",
   "execution_count": null,
   "id": "62813503",
   "metadata": {},
   "outputs": [],
   "source": [
    "state = data['State'].unique()\n",
    "suicide=data.to_numpy()\n",
    "state=np.delete(state,[31,32,33])\n",
    "total=[]\n",
    "cause = ['By Jumping from (Other sites)','By Jumping from (Building)']\n",
    "\n",
    "for i in state:\n",
    "    k=0\n",
    "    for j in suicide:\n",
    "        if(j[3]==cause[0] or j[3]==cause[1]) and j[0]==i:\n",
    "            k+=j[6]\n",
    "    total.append(k)\n",
    "dict ={'State':state,'Total Case':total}\n",
    "df = pd.DataFrame(dict)\n",
    "df = df.sort_values(by=['Total Case'], ascending=0).head(1)\n",
    "print(df['State'].to_string()[4:],\"suffered highest suicide by jumping from building or other sites\")"
   ]
  },
  {
   "cell_type": "markdown",
   "id": "18ae3782",
   "metadata": {},
   "source": [
    "# Question 5"
   ]
  },
  {
   "cell_type": "code",
   "execution_count": null,
   "id": "539318d9",
   "metadata": {},
   "outputs": [],
   "source": [
    "import pandas as pd\n",
    "import numpy as np\n",
    "data = pd.read_csv(\"Suicides in India 2001-2012.csv\")"
   ]
  },
  {
   "cell_type": "code",
   "execution_count": null,
   "id": "b0aac6f0",
   "metadata": {},
   "outputs": [],
   "source": [
    "state=data['State'].unique()\n",
    "suicide=data.to_numpy()\n",
    "state=np.delete(state,[31,32,33])\n",
    "total=[]\n",
    "for i in state:\n",
    "    k=0\n",
    "    for j in suicide:\n",
    "        if(j[3]=='By Hanging' and j[5]=='0-14' and j[0]==i and j[1]==2010):\n",
    "            k+=j[6]\n",
    "    total.append(k)\n"
   ]
  },
  {
   "cell_type": "code",
   "execution_count": null,
   "id": "3b89d85b",
   "metadata": {},
   "outputs": [],
   "source": [
    "dict = {'State':state,'Total':total}\n",
    "df = pd.DataFrame(dict)\n",
    "df=df.sort_values(by='Total',ascending=0).head(1)\n",
    "print(df['State'].to_string()[4:],\"was highest in number suffered suicide by hanging and age group was between 0 to 14 in the year 2010\")"
   ]
  },
  {
   "cell_type": "markdown",
   "id": "535769f1",
   "metadata": {},
   "source": [
    "# Question 6"
   ]
  },
  {
   "cell_type": "code",
   "execution_count": null,
   "id": "9acc4ff3",
   "metadata": {},
   "outputs": [],
   "source": [
    "import pandas as pd\n",
    "import numpy as np\n",
    "data = pd.read_csv(\"Suicides in India 2001-2012.csv\")"
   ]
  },
  {
   "cell_type": "code",
   "execution_count": null,
   "id": "831d7d10",
   "metadata": {},
   "outputs": [],
   "source": [
    "state=data['State'].unique()\n",
    "suicide=data.to_numpy()\n",
    "state=np.delete(state,[31,32,33])\n",
    "total=[]\n",
    "for i in state:\n",
    "    k=0\n",
    "    for j in suicide:\n",
    "        if(j[3]=='Family Problems' and j[0]==i):\n",
    "            k+=j[6]\n",
    "    total.append(k)\n",
    "dict = {'State':state,'Total':total}\n",
    "df = pd.DataFrame(dict)\n",
    "df = df.sort_values(by='Total',ascending=0)\n",
    "print(\"states offer the most suicide due to family problems is \",df.head(1)['State'].to_string()[5:])\n",
    "print(\"states offer the least suicide due to family problems is \",df.tail(1)['State'].to_string()[5:])\n"
   ]
  },
  {
   "cell_type": "markdown",
   "id": "004e4f1f",
   "metadata": {},
   "source": [
    "# Question 7"
   ]
  },
  {
   "cell_type": "code",
   "execution_count": null,
   "id": "0cd56beb",
   "metadata": {},
   "outputs": [],
   "source": [
    "import pandas as pd\n",
    "import numpy as np\n",
    "data = pd.read_csv(\"Suicides in India 2001-2012.csv\")\n",
    "suicide = data.to_numpy()"
   ]
  },
  {
   "cell_type": "code",
   "execution_count": null,
   "id": "4c2369f8",
   "metadata": {},
   "outputs": [],
   "source": [
    "Year =[2001,2002,2003,2004,2005,2006,2007,2008,2009,2010]\n",
    "total=[]\n",
    "cause = data['Type'].unique()\n",
    "cause  = np.delete(cause,[20,41,58,68])\n",
    "for i in cause:\n",
    "    k=0\n",
    "    for j in suicide:\n",
    "        if(j[1] in Year):\n",
    "            if(j[5]=='60+' and j[3]==i):\n",
    "                k+=j[6]\n",
    "    total.append(k)\n",
    "dict = {'Cause':cause,'Total':total}\n",
    "df = pd.DataFrame(dict)\n",
    "df=df.sort_values(by=['Total'],ascending=0).head(1)\n",
    "print(\"The main reason or cause behind suicide of senior citizens during 2001 to 2010 is:\",df['Cause'].to_string()[5:])"
   ]
  },
  {
   "cell_type": "markdown",
   "id": "03d8c7fe",
   "metadata": {},
   "source": [
    "# Question 8"
   ]
  },
  {
   "cell_type": "code",
   "execution_count": null,
   "id": "8c230367",
   "metadata": {},
   "outputs": [],
   "source": [
    "import numpy as np\n",
    "import pandas as pd\n",
    "data = pd.read_csv(\"Suicides in India 2001-2012.csv\")\n",
    "suicide = data.to_numpy()"
   ]
  },
  {
   "cell_type": "code",
   "execution_count": null,
   "id": "0662cc7b",
   "metadata": {},
   "outputs": [],
   "source": [
    "Year =[2010,2011,2012]\n",
    "total=[]\n",
    "k=0\n",
    "for i in Year:\n",
    "    for j in suicide:\n",
    "        if(j[5]=='15-29' and j[3]=='Physical Abuse (Rape/Incest Etc.)' and j[4]=='Female' and j[1]==i):\n",
    "            k+=j[6]\n",
    "print(k,\"Females committed suicide caused by rape abuse having age group of 15 to 29 and 2010 to 2012\")"
   ]
  },
  {
   "cell_type": "markdown",
   "id": "75d7645b",
   "metadata": {},
   "source": [
    "# Question 9"
   ]
  },
  {
   "cell_type": "code",
   "execution_count": null,
   "id": "cfd795fe",
   "metadata": {},
   "outputs": [],
   "source": [
    "import numpy as np\n",
    "import pandas as pd\n",
    "data = pd.read_csv(\"Suicides in India 2001-2012.csv\")\n",
    "suicide = data.to_numpy()"
   ]
  },
  {
   "cell_type": "code",
   "execution_count": null,
   "id": "bba42ef4",
   "metadata": {},
   "outputs": [],
   "source": [
    "Year =[2001,2002,2003,2004,2005,2006,2007,2008,2009,2010,2011,2012]\n",
    "total=[]\n",
    "cause = data['Type'].unique()\n",
    "\n",
    "for i in cause:\n",
    "    k=0\n",
    "    for j in suicide:\n",
    "        if(j[1] in Year):\n",
    "            if(j[0]=='Assam' and j[3]==i):\n",
    "                k+=j[6]\n",
    "    total.append(k)\n",
    "dict = {'Cause':cause,'Total':total}\n",
    "df = pd.DataFrame(dict)\n",
    "df=df.sort_values(by=['Total'],ascending=0).head(1)\n",
    "print(\"The main reason or cause of suicides in Assam during 2001 to 2012 is:\",df['Cause'].to_string()[5:])"
   ]
  },
  {
   "cell_type": "markdown",
   "id": "8da97f32",
   "metadata": {},
   "source": [
    "# Question 10"
   ]
  },
  {
   "cell_type": "code",
   "execution_count": null,
   "id": "67543306",
   "metadata": {},
   "outputs": [],
   "source": [
    "import numpy as np\n",
    "import pandas as pd\n",
    "data = pd.read_csv(\"Suicides in India 2001-2012.csv\")\n",
    "suicide = data.to_numpy()"
   ]
  },
  {
   "cell_type": "code",
   "execution_count": null,
   "id": "f7450d7e",
   "metadata": {},
   "outputs": [],
   "source": [
    "cause = data['Type'].unique()\n",
    "cause = np.delete(cause,[20,41,58,68])\n",
    "total =[]\n",
    "year = [2005,2006,2007,2008,2009,2010,2011,2012]\n",
    "\n",
    "for i in cause:\n",
    "    count =0\n",
    "    for j in suicide:\n",
    "        if  j[1] in year:\n",
    "            if j[3]==i:\n",
    "                count+=j[6]\n",
    "    total.append(count)\n",
    "dict = {'Cause':cause,'Total':total}\n",
    "df = pd.DataFrame(dict)\n",
    "df = df.sort_values(by=['Total'],ascending=0).head(10)\n"
   ]
  },
  {
   "cell_type": "code",
   "execution_count": null,
   "id": "26b7c12a",
   "metadata": {},
   "outputs": [],
   "source": [
    "import matplotlib.pyplot as plt\n",
    "\n",
    "fig1, ax1 = plt.subplots(figsize=(7,7))\n",
    "ax1.pie(df['Total'],shadow=True, autopct='%1.1f%%')\n",
    "ax1.legend(df['Cause'],title='Cause',loc='center left',bbox_to_anchor=(1, 0, 0.5, 1))\n",
    "plt.title(\"Top 10 reasons of suicide caused all over the states in 2005 to 2012\",fontsize=15,x=1.01)\n",
    "plt.show()"
   ]
  },
  {
   "cell_type": "markdown",
   "id": "0c48ca7f",
   "metadata": {},
   "source": [
    "# Question 11"
   ]
  },
  {
   "cell_type": "code",
   "execution_count": null,
   "id": "e6e0e1e2",
   "metadata": {},
   "outputs": [],
   "source": [
    "import numpy as np\n",
    "import pandas as pd\n",
    "data = pd.read_csv(\"Suicides in India 2001-2012.csv\")\n",
    "suicide = data.to_numpy()"
   ]
  },
  {
   "cell_type": "code",
   "execution_count": null,
   "id": "e9423d4e",
   "metadata": {},
   "outputs": [],
   "source": [
    "cause = data['Type'].unique()\n",
    "cause = np.delete(cause,[20,41,58,68])\n",
    "total =[]\n",
    "year = [2005,2006,2007,2008,2009,2010,2011,2012]\n",
    "\n",
    "for i in cause:\n",
    "    count =0\n",
    "    for j in suicide:\n",
    "        if  j[1] in year:\n",
    "            if j[3]==i and j[5]=='0-14':\n",
    "                count+=j[6]\n",
    "    total.append(count)\n",
    "dict = {'Cause':cause,'Total':total}\n",
    "df = pd.DataFrame(dict)\n",
    "df = df.sort_values(by=['Total'],ascending=0).head(1)\n",
    "print(\"The main cause of Suicides of Age Group 0-14 in the Year 2005 to 2012 of all states is\",df['Cause'].to_string()[5:])"
   ]
  },
  {
   "cell_type": "markdown",
   "id": "ac14f081",
   "metadata": {},
   "source": [
    "# Question 12"
   ]
  },
  {
   "cell_type": "code",
   "execution_count": null,
   "id": "f7c71af4",
   "metadata": {},
   "outputs": [],
   "source": [
    "import numpy as np\n",
    "import pandas as pd\n",
    "data = pd.read_csv(\"Suicides in India 2001-2012.csv\")\n",
    "suicide = data.to_numpy()"
   ]
  },
  {
   "cell_type": "code",
   "execution_count": null,
   "id": "c6f7ac06",
   "metadata": {},
   "outputs": [],
   "source": [
    "state = data['State'].unique()\n",
    "state=np.delete(state,[31,32,33])\n",
    "total =[]\n",
    "for i in state:\n",
    "    count =0\n",
    "    for j in suicide:\n",
    "        if j[0]==i :\n",
    "                count+=j[6]\n",
    "    total.append(count)\n",
    "dict = {'State':state,'Total':total}\n",
    "df = pd.DataFrame(dict)\n",
    "import matplotlib.pyplot as plt\n",
    "fig1,ax1= plt.subplots(figsize=(10,10))\n",
    "ax1.plot(df['State'],df['Total'])\n",
    "plt.xticks(rotation=90)\n",
    "plt.title(\"The Overall Count of Suicides in the whole dataset state-wise\",fontsize=15)\n",
    "plt.show()"
   ]
  },
  {
   "cell_type": "markdown",
   "id": "9abd77c4",
   "metadata": {},
   "source": [
    "# Question 13"
   ]
  },
  {
   "cell_type": "code",
   "execution_count": null,
   "id": "bf4579f7",
   "metadata": {},
   "outputs": [],
   "source": [
    "import pandas as pd\n",
    "import numpy as np\n",
    "data = pd.read_csv(\"Suicides in India 2001-2012.csv\")\n",
    "suicide= data.to_numpy()"
   ]
  },
  {
   "cell_type": "code",
   "execution_count": null,
   "id": "f02a23ff",
   "metadata": {},
   "outputs": [],
   "source": [
    "cause= data['Type'].unique()\n",
    "cause_type='Professional_Profile'\n",
    "cause = np.delete(cause,[20,41,58,68])\n",
    "total =[]\n",
    "year=[2005,2006,2007,2008,2009,2010,2011,2012]\n",
    "for i in cause:\n",
    "    count=0\n",
    "    for j in suicide:\n",
    "        if j[1] in year:\n",
    "            if j[2]==cause_type and j[3]==i:\n",
    "                count+=j[6]\n",
    "    total.append(count)\n",
    "dict={'Cause':cause,'Total':total}\n",
    "df= pd.DataFrame(dict)\n",
    "df=df.sort_values(by=['Total'],ascending=0).head()\n",
    "print(\"The Top 5 Type Code of Professional Profiles which hiked the Suicides in Year 2002 to 2010 is:\")\n",
    "print(df)"
   ]
  },
  {
   "cell_type": "markdown",
   "id": "7c34ba72",
   "metadata": {},
   "source": [
    "# Question 14"
   ]
  },
  {
   "cell_type": "code",
   "execution_count": null,
   "id": "5e432e31",
   "metadata": {},
   "outputs": [],
   "source": [
    "import numpy as np\n",
    "import pandas as pd\n",
    "import matplotlib.pyplot as plt\n",
    "data = pd.read_csv(\"Suicides in India 2001-2012.csv\")\n",
    "suicide=data.to_numpy()"
   ]
  },
  {
   "cell_type": "code",
   "execution_count": null,
   "id": "2f7a239f",
   "metadata": {},
   "outputs": [],
   "source": [
    "state = data['State'].unique()\n",
    "state=np.delete(state,[31,32,33])\n",
    "cause = data['Type'].unique()\n",
    "cause = np.delete(cause,[20,41,58,68])"
   ]
  },
  {
   "cell_type": "code",
   "execution_count": null,
   "id": "a1611531",
   "metadata": {},
   "outputs": [],
   "source": [
    "h=1\n",
    "fig = plt.figure(figsize=(25,25))\n",
    "plt.suptitle(\"Top 5 Reason of Suicides in each States\",fontsize=20,y=1.01)\n",
    "for i in state:\n",
    "    total=[]\n",
    "    for j in cause:\n",
    "        count=0\n",
    "        for k in suicide:\n",
    "            if k[3]==j and k[0]==i:\n",
    "                count+=k[6]\n",
    "        total.append(count)\n",
    "    dict = {'Cause':cause,'Total':total}\n",
    "    df = pd.DataFrame(dict)\n",
    "    df = df.sort_values(by=['Total'],ascending=0).head(5)\n",
    "    ax = fig.add_subplot(12,3,h)\n",
    "    ax.pie(df['Total'],shadow=True, autopct='%1.1f%%',startangle=100)\n",
    "    #ax1.axis('equal')\n",
    "    plt.title(i)\n",
    "    h+=1\n",
    "    ax.legend(df['Cause'],title='Cause',loc='center left',bbox_to_anchor=(1, 0, 0.5, 1))\n",
    "plt.tight_layout(pad=0.5)\n",
    "plt.show()"
   ]
  },
  {
   "cell_type": "markdown",
   "id": "494eaaef",
   "metadata": {},
   "source": [
    "# Question 15"
   ]
  },
  {
   "cell_type": "code",
   "execution_count": null,
   "id": "fff5ad93",
   "metadata": {},
   "outputs": [],
   "source": [
    "import pandas as pd\n",
    "import numpy as np\n",
    "import matplotlib.pyplot as plt\n",
    "data = pd.read_csv(\"Suicides in India 2001-2012.csv\")"
   ]
  },
  {
   "cell_type": "code",
   "execution_count": null,
   "id": "a1c9045c",
   "metadata": {},
   "outputs": [],
   "source": [
    "x= data['Year'].unique()\n",
    "y =data.groupby('Year').sum()['Total']\n",
    "y= y.to_numpy()\n",
    "temp=[]\n",
    "for i in y:\n",
    "    temp.append(i/100000)\n",
    "plt.figure(figsize=(10,10))\n",
    "plt.subplot()\n",
    "plt.bar(x,temp)     \n",
    "plt.yticks(np.arange(6,13,0.5))\n",
    "plt.ylim(7, 13)\n",
    "plt.xlabel(\"Year\",fontsize=15)\n",
    "plt.ylabel(\"Total Suicides(In Lakhs)\",fontsize=15)\n",
    "plt.title(\"Total Suicides in India Yearwise\",fontsize=20)\n",
    "plt.show()"
   ]
  },
  {
   "cell_type": "markdown",
   "id": "77ac3ac4",
   "metadata": {},
   "source": [
    "# Question 16"
   ]
  },
  {
   "cell_type": "code",
   "execution_count": null,
   "id": "2c293a1e",
   "metadata": {},
   "outputs": [],
   "source": [
    "import pandas as pd\n",
    "import numpy as np\n",
    "import matplotlib.pyplot as plt\n",
    "data = pd.read_csv(\"Suicides in India 2001-2012.csv\")"
   ]
  },
  {
   "cell_type": "code",
   "execution_count": null,
   "id": "b2930dae",
   "metadata": {},
   "outputs": [],
   "source": [
    "x= data['Age_group'].unique()\n",
    "y =data.groupby('Age_group').sum()['Total']\n",
    "y= y.to_numpy()\n",
    "\n",
    "fig1, ax1 = plt.subplots(figsize=(7,7))\n",
    "ax1.pie(y,shadow=True, autopct='%1.1f%%',startangle=100)\n",
    "plt.title(\"Total Suicides by Age-Group\",fontsize=20)\n",
    "ax1.legend(x,title='Age Group',loc='center left',bbox_to_anchor=(1, 0, 0.5, 1))\n",
    "plt.show()"
   ]
  },
  {
   "cell_type": "markdown",
   "id": "7f8c1e26",
   "metadata": {},
   "source": [
    "# Question 17"
   ]
  },
  {
   "cell_type": "code",
   "execution_count": null,
   "id": "39cf2ccb",
   "metadata": {},
   "outputs": [],
   "source": [
    "import pandas as pd\n",
    "import numpy as np\n",
    "import matplotlib.pyplot as plt\n",
    "data = pd.read_csv(\"Suicides in India 2001-2012.csv\")"
   ]
  },
  {
   "cell_type": "code",
   "execution_count": null,
   "id": "e3c9a5f4",
   "metadata": {},
   "outputs": [],
   "source": [
    "x= data['Gender'].unique()\n",
    "y =data.groupby('Gender').sum()['Total']\n",
    "y= y.to_numpy()\n",
    "temp=[]\n",
    "for i in y:\n",
    "    temp.append(i/1000000)\n",
    "fig1,ax1 =plt.subplots()\n",
    "plt.bar(x,temp)     \n",
    "plt.title(\"Total Suicide  Cases according to Gender \",fontsize=20)\n",
    "plt.yticks(np.arange(4,9,0.5))\n",
    "plt.ylabel(\"Total Cases (in Lakhs)\",fontsize=15,)\n",
    "plt.xlabel(\"Gender\",fontsize=15)\n",
    "plt.ylim(4, 9)\n",
    "plt.show()"
   ]
  },
  {
   "cell_type": "markdown",
   "id": "e0b43809",
   "metadata": {},
   "source": [
    "# Question 18"
   ]
  },
  {
   "cell_type": "code",
   "execution_count": 1,
   "id": "07c641a3",
   "metadata": {},
   "outputs": [],
   "source": [
    "import pandas as pd\n",
    "import numpy as np\n",
    "import matplotlib.pyplot as plt\n",
    "data = pd.read_csv(\"Suicides in India 2001-2012.csv\")"
   ]
  },
  {
   "cell_type": "code",
   "execution_count": 2,
   "id": "7ac2de41",
   "metadata": {},
   "outputs": [
    {
     "data": {
      "image/png": "[encoded data removed]",
      "text/plain": [
       "<Figure size 504x504 with 1 Axes>"
      ]
     },
     "metadata": {},
     "output_type": "display_data"
    }
   ],
   "source": [
    "x= data['Type_code'].unique()\n",
    "y =data.groupby('Type_code').sum()['Total']\n",
    "fig1, ax1 = plt.subplots(figsize=(7,7))\n",
    "ax1.pie(y,shadow=True, autopct='%1.1f%%',startangle=100)\n",
    "plt.title(\"Total Suicides in India by Cause-Type \",fontsize=20)\n",
    "ax1.legend(x,title='Cause Type',loc='center left',bbox_to_anchor=(1, 0, 0.5, 1))\n",
    "plt.show()"
   ]
  },
  {
   "cell_type": "markdown",
   "id": "af369217",
   "metadata": {},
   "source": [
    "# Question 19"
   ]
  },
  {
   "cell_type": "code",
   "execution_count": null,
   "id": "48ba51cf",
   "metadata": {},
   "outputs": [],
   "source": [
    "import pandas as pd\n",
    "import numpy as np\n",
    "import matplotlib.pyplot as plt\n",
    "data = pd.read_csv(\"Suicides in India 2001-2012.csv\")\n",
    "suicide=data.to_numpy()"
   ]
  },
  {
   "cell_type": "code",
   "execution_count": null,
   "id": "e7e177de",
   "metadata": {},
   "outputs": [],
   "source": [
    "cause = data['Type'].unique()\n",
    "cause = np.delete(cause,[20,41,58,68])\n",
    "total =[]\n",
    "year = [2005,2006,2007,2008,2009,2010,2011,2012]\n",
    "\n",
    "for i in cause:\n",
    "    count =0\n",
    "    for j in suicide:\n",
    "        if  j[1] in year:\n",
    "            if j[3]==i and j[5]=='15-29':\n",
    "                count+=j[6]\n",
    "    total.append(count)\n",
    "dict = {'Cause':cause,'Total':total}\n",
    "df = pd.DataFrame(dict)\n",
    "df = df.sort_values(by=['Total'],ascending=0).head(10)\n",
    "fig1, ax1 = plt.subplots(figsize=(7,7))\n",
    "ax1.pie(df['Total'],shadow=True, autopct='%1.1f%%',startangle=100)\n",
    "plt.title(\"The main cause of Suicides of Age Group 15-29 in the Year 2005 to 2012 of all states\",fontsize=20)\n",
    "ax1.legend(df['Cause'],title='Cause',loc='center left',bbox_to_anchor=(1, 0, 0.5, 1))\n",
    "plt.show()"
   ]
  },
  {
   "cell_type": "markdown",
   "id": "b85aa72b",
   "metadata": {},
   "source": [
    "# Question 20"
   ]
  },
  {
   "cell_type": "code",
   "execution_count": null,
   "id": "80f74730",
   "metadata": {},
   "outputs": [],
   "source": [
    "import pandas as pd\n",
    "import numpy as np\n",
    "data = pd.read_csv(\"Suicides in India 2001-2012.csv\")\n",
    "state=data['State'].unique()\n",
    "suicide=data.to_numpy()\n",
    "state=np.delete(state,[31,32,33])"
   ]
  },
  {
   "cell_type": "code",
   "execution_count": null,
   "id": "8f8ba7a6",
   "metadata": {},
   "outputs": [],
   "source": [
    "total=[]\n",
    "for i in state:\n",
    "    k=0\n",
    "    for j in suicide:\n",
    "        if(j[0]==i):\n",
    "            k+=j[6]\n",
    "    total.append(k)\n",
    "dict = {'State':state,'Total':total}\n",
    "df = pd.DataFrame(dict)\n",
    "df=df.sort_values(by=['Total']).head()\n",
    "fig1, ax1 = plt.subplots(figsize=(7,7))\n",
    "ax1.pie(df['Total'],shadow=True, autopct='%1.1f%%',startangle=100)\n",
    "plt.title(\"Top 5 States where suicides were minimum\",fontsize=20)\n",
    "ax1.legend(df['State'],title='State',loc='center left',bbox_to_anchor=(1, 0, 0.5, 1))\n",
    "plt.show()"
   ]
  }
 ],
 "metadata": {
  "kernelspec": {
   "display_name": "Python 3",
   "language": "python",
   "name": "python3"
  },
  "language_info": {
   "codemirror_mode": {
    "name": "ipython",
    "version": 3
   },
   "file_extension": ".py",
   "mimetype": "text/x-python",
   "name": "python",
   "nbconvert_exporter": "python",
   "pygments_lexer": "ipython3",
   "version": "3.8.8"
  }
 },
 "nbformat": 4,
 "nbformat_minor": 5
}
